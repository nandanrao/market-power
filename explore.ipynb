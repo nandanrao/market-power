{
 "cells": [
  {
   "cell_type": "code",
   "execution_count": 11,
   "metadata": {
    "autoscroll": false,
    "collapsed": false,
    "ein.tags": "worksheet-0",
    "slideshow": {
     "slide_type": "-"
    }
   },
   "outputs": [],
   "source": [
    "import pandas as pd\n",
    "import numpy as np\n",
    "from itertools import islice"
   ]
  },
  {
   "cell_type": "code",
   "execution_count": null,
   "metadata": {
    "autoscroll": false,
    "collapsed": false,
    "ein.tags": "worksheet-0",
    "slideshow": {
     "slide_type": "-"
    }
   },
   "outputs": [],
   "source": [
    "df = pd.read_stata('./14/pu2014w1.dta', chunksize = 20000)"
   ]
  },
  {
   "cell_type": "code",
   "execution_count": null,
   "metadata": {
    "autoscroll": false,
    "collapsed": false,
    "ein.tags": "worksheet-0",
    "slideshow": {
     "slide_type": "-"
    }
   },
   "outputs": [],
   "source": [
    "df = islice(df, 0, 1)"
   ]
  },
  {
   "cell_type": "code",
   "execution_count": null,
   "metadata": {
    "autoscroll": false,
    "collapsed": false,
    "ein.tags": "worksheet-0",
    "slideshow": {
     "slide_type": "-"
    }
   },
   "outputs": [],
   "source": [
    "df = [f for f in df][0]"
   ]
  },
  {
   "cell_type": "code",
   "execution_count": null,
   "metadata": {
    "autoscroll": false,
    "collapsed": false,
    "ein.tags": "worksheet-0",
    "slideshow": {
     "slide_type": "-"
    }
   },
   "outputs": [],
   "source": [
    "df"
   ]
  },
  {
   "cell_type": "code",
   "execution_count": 37,
   "metadata": {
    "autoscroll": false,
    "collapsed": false,
    "ein.tags": "worksheet-0",
    "slideshow": {
     "slide_type": "-"
    }
   },
   "outputs": [],
   "source": [
    "import os\n",
    "\n",
    "files = [f[2] for f in os.walk('./08')][0]\n",
    "# statas = [pd.read_stata('./08/'+f, chunksize=10000) for f in files]\n",
    "# [i for i in islice(pd.read_stata('./08/set_d.dta', chunksize = 10000 read_categoricals), 0, 1)][0]\n",
    "# statas = [i for s in statas for i in islice(s, 0, 1)]\n",
    "\n",
    "d = pd.read_stata('./08/set_d.dta', convert_categoricals=False)"
   ]
  },
  {
   "cell_type": "code",
   "execution_count": null,
   "metadata": {
    "autoscroll": false,
    "collapsed": false,
    "ein.tags": "worksheet-0",
    "slideshow": {
     "slide_type": "-"
    }
   },
   "outputs": [],
   "source": [
    "sr = pd.io.stata.StataReader('./08/set_d.dta')\n",
    "vl = sr.value_labels()"
   ]
  },
  {
   "cell_type": "code",
   "execution_count": null,
   "metadata": {
    "autoscroll": false,
    "collapsed": false,
    "ein.tags": "worksheet-0",
    "slideshow": {
     "slide_type": "-"
    }
   },
   "outputs": [],
   "source": [
    "s = statas[0:9]\n",
    "p = [i for s in s for i in islice(s, 0, 1)]"
   ]
  },
  {
   "cell_type": "code",
   "execution_count": null,
   "metadata": {
    "autoscroll": false,
    "collapsed": false,
    "ein.tags": "worksheet-0",
    "slideshow": {
     "slide_type": "-"
    }
   },
   "outputs": [],
   "source": [
    "pd.concat(p, axis=1).shape"
   ]
  },
  {
   "cell_type": "code",
   "execution_count": 4,
   "metadata": {
    "autoscroll": false,
    "collapsed": true,
    "ein.tags": "worksheet-0",
    "slideshow": {
     "slide_type": "-"
    }
   },
   "outputs": [],
   "source": [
    "df = pd.read_csv('./08/set_d.csv', nrows = 100000)"
   ]
  },
  {
   "cell_type": "code",
   "execution_count": 53,
   "metadata": {
    "autoscroll": false,
    "collapsed": false,
    "ein.tags": "worksheet-0",
    "slideshow": {
     "slide_type": "-"
    }
   },
   "outputs": [
    {
     "data": {
      "text/plain": [
       "abmsum          int8\nage             int8\nclass        float64\nearn         float64\nearn_calc    float64\nearn_imp     float64\nearn_tc      float64\nearnm        float64\nearntc       float32\nearntc_7     float32\nearntc_8     float32\nearntc_9     float32\nearntc_l     float32\nemonth       float64\nemp          float64\nersend       float64\nesr          float64\nestlemp      float64\neyear        float64\nfemale       float64\nhasjob          int8\nhours        float64\nhours_m      float32\nhrly         float64\nid            object\nind          float64\nind23        float64\njob          float64\njobno           int8\nmooninc      float64\nmultjob      float64\nnjobs        float64\nocc          float64\nocc14        float64\nprim         float64\nprimjob      float64\nrate         float64\nrate_tc      float64\nratetc_7     float32\nratetc_8     float32\nratetc_9     float32\nratetc_l     float32\nrmwkwjb      float64\nrot             int8\nrwkesr2      float64\nselfinc      float64\nsmonth       float64\nsrefmon         int8\nsyear        float64\ntempall      float64\ntempsiz      float64\nunion        float64\nwage         float64\nwage_calc    float64\nwage_imp     float64\nwagetc       float32\nwave            int8\nwksper       float64\nyear           int16\ndtype: object"
      ]
     },
     "execution_count": 53,
     "metadata": {},
     "output_type": "execute_result"
    }
   ],
   "source": [
    "d.dtypes"
   ]
  }
 ],
 "metadata": {
  "kernelspec": {
   "display_name": "Python 3",
   "name": "python3"
  },
  "language_info": {
   "codemirror_mode": {
    "name": "ipython",
    "version": 3
   },
   "file_extension": ".py",
   "mimetype": "text/x-python",
   "name": "python",
   "nbconvert_exporter": "python",
   "pygments_lexer": "ipython3",
   "version": "3.6.3"
  },
  "name": "explore.ipynb"
 },
 "nbformat": 4,
 "nbformat_minor": 2
}
